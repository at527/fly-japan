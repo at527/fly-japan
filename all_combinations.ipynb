{
 "cells": [
  {
   "cell_type": "code",
   "execution_count": null,
   "metadata": {},
   "outputs": [],
   "source": [
    "norcal_ports = [\"SFO\", \"OAK\", \"SJC\"]\n",
    "socal_ports = [\"LAX\", \"SNA\", \"SAN\"]\n",
    "japan_ports = [\n",
    "    \"HND\",\n",
    "    \"FUK\",\n",
    "    \"CTS\",\n",
    "    \"OKA\",\n",
    "    \"ITM\",\n",
    "    \"NRT\",\n",
    "    \"KIX\",\n",
    "    \"NGO\",\n",
    "    \"KOJ\",\n",
    "    \"UKB\",\n",
    "    \"SDJ\",\n",
    "    \"ISG\",\n",
    "    \"KMI\",\n",
    "    \"KMJ\",\n",
    "    \"NGS\",\n",
    "    \"MYJ\",\n",
    "]\n",
    "\n",
    "start_dates = ['2024-03-21', '2024-03-22', '2024-03-23']\n",
    "end_date = ['2024-03-30', '2024-03-31', '2024-04-01']\n",
    "\n"
   ]
  },
  {
   "cell_type": "code",
   "execution_count": null,
   "metadata": {},
   "outputs": [],
   "source": []
  }
 ],
 "metadata": {
  "language_info": {
   "name": "python"
  },
  "orig_nbformat": 4
 },
 "nbformat": 4,
 "nbformat_minor": 2
}
